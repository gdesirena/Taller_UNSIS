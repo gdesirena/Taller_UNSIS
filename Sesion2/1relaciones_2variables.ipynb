{
 "cells": [
  {
   "cell_type": "markdown",
   "metadata": {},
   "source": [
    "# Identificando y modelando relaciones entre pares de variables\n",
    "\n",
    "![correlation](https://static.thenounproject.com/png/1569699-200.png)\n",
    "\n",
    "> En la sesión anterior introdujimos el lenguaje de programación Python, y la librería de análisis de datos para Python **Pandas**. Con Pandas, aprendimos a:\n",
    "  - Cargar datos desde archivos.\n",
    "  - Manipular los datos de manera básica:\n",
    "    - Obtener ciertos registros.\n",
    "    - Obtener ciertas columnas.\n",
    "    - Obtener registros basados en condiciones.\n",
    "  - Calcular estadísticas agregadas de cada variable (media, mediana, desviación estándar).\n",
    "  \n",
    "> Con las estadísticas de cada variable, podemos darnos una idea del comportamiento de cada variable en particular; sin embargo, no podemos inferir relaciones de una variable con otra. En esta sesión, revisaremos métodos prácticos para identificar relaciones entre variables, y además estudiaremos un método para modelar dichas relaciones de manera lineal.\n",
    "___"
   ]
  },
  {
   "cell_type": "markdown",
   "metadata": {},
   "source": [
    "# 1. Coeficiente de correlación\n",
    "\n",
    "El coeficiente de correlación mide qué tan fuerte es la relación entre dos variables. Dejaremos de lado la forma de calcularlo y nos concentraremos más en sus propiedades y la interpretación que podemos darle:\n",
    "\n",
    "- La correlación entre dos variables cualesquiera $x,y$ satisface: $$-1\\leq\\rho_{xy}\\leq 1.$$\n",
    "- La correlación de una variable con ella misma es igual a uno (1): $$\\rho_{xx}=1.$$\n",
    "- La correlación es simétrica: $$\\rho_{xy} = \\rho_{yx}.$$"
   ]
  },
  {
   "cell_type": "code",
   "execution_count": null,
   "metadata": {},
   "outputs": [],
   "source": [
    "# Importar numpy\n"
   ]
  },
  {
   "cell_type": "code",
   "execution_count": null,
   "metadata": {},
   "outputs": [],
   "source": [
    "# Importar pyplot\n"
   ]
  },
  {
   "cell_type": "markdown",
   "metadata": {},
   "source": [
    "- Una correlación positiva $\\rho_{xy}>0$ indica que los movimientos relativos entre las variables $x,y$ van en la misma dirección."
   ]
  },
  {
   "cell_type": "code",
   "execution_count": null,
   "metadata": {},
   "outputs": [],
   "source": [
    "# Variables con correlación positiva\n"
   ]
  },
  {
   "cell_type": "code",
   "execution_count": null,
   "metadata": {},
   "outputs": [],
   "source": [
    "# Correlación\n"
   ]
  },
  {
   "cell_type": "markdown",
   "metadata": {},
   "source": [
    "- Una correlación negativa $\\rho_{xy}<0$ indica que los movimientos relativos entre las variables $x,y$ van en direcciones opuestas."
   ]
  },
  {
   "cell_type": "code",
   "execution_count": null,
   "metadata": {},
   "outputs": [],
   "source": [
    "# Variables con correlación negativa\n"
   ]
  },
  {
   "cell_type": "code",
   "execution_count": null,
   "metadata": {},
   "outputs": [],
   "source": [
    "# Correlación\n"
   ]
  },
  {
   "cell_type": "markdown",
   "metadata": {},
   "source": [
    "- Una correlación nula $\\rho_{xy}=0$ indica que no hay una relación aparente entre las variables $x, y$."
   ]
  },
  {
   "cell_type": "code",
   "execution_count": null,
   "metadata": {},
   "outputs": [],
   "source": [
    "# Variables con correlación nula\n"
   ]
  },
  {
   "cell_type": "code",
   "execution_count": null,
   "metadata": {},
   "outputs": [],
   "source": [
    "# Correlación\n"
   ]
  },
  {
   "cell_type": "markdown",
   "metadata": {},
   "source": [
    "Ya que entendimos el coeficiente de correlación, utilicémoslo para descubrir la relación que hay entre el precio de las casas y su tamaño:"
   ]
  },
  {
   "cell_type": "code",
   "execution_count": null,
   "metadata": {},
   "outputs": [],
   "source": [
    "# Importar pandas\n"
   ]
  },
  {
   "cell_type": "code",
   "execution_count": null,
   "metadata": {},
   "outputs": [],
   "source": [
    "# Cargamos datos de las casas\n"
   ]
  },
  {
   "cell_type": "code",
   "execution_count": null,
   "metadata": {},
   "outputs": [],
   "source": [
    "# Gráfico precio vs. tamaño\n"
   ]
  },
  {
   "cell_type": "code",
   "execution_count": null,
   "metadata": {},
   "outputs": [],
   "source": [
    "# Correlación\n"
   ]
  },
  {
   "cell_type": "markdown",
   "metadata": {},
   "source": [
    "# 2. Regresión lineal con una variable\n",
    "\n",
    "Una vez hemos identificado la relación entre dos variables, ¿Cómo podemos modelar esta relación?\n",
    "\n",
    "La respuesta es: **regresión lineal**."
   ]
  },
  {
   "cell_type": "markdown",
   "metadata": {},
   "source": [
    "En términos simples, el objetivo de la regresión lineal es encontrar un modelo de una recta:\n",
    "\n",
    "$$\n",
    "y = m x + b\n",
    "$$\n",
    "\n",
    "que **\"mejor\" (en el sentido de mínimos cuadrados) se ajuste a los puntos**. En otras palabras, el objetivo es encontrar el modelo de una recta que \"aprenda\" los datos."
   ]
  },
  {
   "cell_type": "markdown",
   "metadata": {},
   "source": [
    "Matemáticamente, si los puntos son\n",
    "\n",
    "$$\n",
    "\\{(x_1, y_1), (x_2, y_2), \\dots, (x_n, y_n)\\},\n",
    "$$\n",
    "\n",
    "lo que queremos es estimar los valores de los parámetros $m$ y $b$ que minimizan la siguiente función:\n",
    "\n",
    "$$\n",
    "J(m, b) = \\sum_{i=1}^{n}(y_i - (m x_i + b))^2\n",
    "$$"
   ]
  },
  {
   "cell_type": "markdown",
   "metadata": {},
   "source": [
    "### ¿Cómo hacemos esto en python?\n",
    "\n",
    "Mediante la clase `LinearRegression` de la librería `sklearn`:"
   ]
  },
  {
   "cell_type": "code",
   "execution_count": null,
   "metadata": {},
   "outputs": [],
   "source": [
    "# Importar sklearn.linear_model.LinearRegression\n"
   ]
  },
  {
   "cell_type": "code",
   "execution_count": null,
   "metadata": {},
   "outputs": [],
   "source": [
    "# Ajustar la mejor recta a los datos de tamaños y precios\n"
   ]
  },
  {
   "cell_type": "code",
   "execution_count": null,
   "metadata": {},
   "outputs": [],
   "source": [
    "# Obtener parámetros ajustados\n"
   ]
  },
  {
   "cell_type": "code",
   "execution_count": null,
   "metadata": {},
   "outputs": [],
   "source": [
    "# Gráfico de datos y de modelo ajustado\n"
   ]
  },
  {
   "cell_type": "markdown",
   "metadata": {},
   "source": [
    "### ¿Y esto para qué nos sirve? Sistema automático de avalúos\n",
    "\n",
    "Supongamos que un amigo nuestro tiene una casa de $2000$ pies cuadrados en Portland, y desea saber a qué precio la podría vender. Se acaba de enterar que justo acabamos de generar un sistema automático que determina el precio de las casas de Portland usando el tamaño de las mismas.\n",
    "\n",
    "¿A qué precio podría vender nuestro amigo la casa?"
   ]
  },
  {
   "cell_type": "code",
   "execution_count": null,
   "metadata": {},
   "outputs": [],
   "source": [
    "# Determinar el precio\n"
   ]
  },
  {
   "cell_type": "code",
   "execution_count": null,
   "metadata": {},
   "outputs": [],
   "source": [
    "# Gráfico\n"
   ]
  }
 ],
 "metadata": {
  "kernelspec": {
   "display_name": "Python 3",
   "language": "python",
   "name": "python3"
  },
  "language_info": {
   "codemirror_mode": {
    "name": "ipython",
    "version": 3
   },
   "file_extension": ".py",
   "mimetype": "text/x-python",
   "name": "python",
   "nbconvert_exporter": "python",
   "pygments_lexer": "ipython3",
   "version": "3.8.5"
  }
 },
 "nbformat": 4,
 "nbformat_minor": 4
}
