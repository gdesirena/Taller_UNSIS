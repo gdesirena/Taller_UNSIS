{
 "cells": [
  {
   "cell_type": "markdown",
   "metadata": {},
   "source": [
    "# Identificando y modelando relaciones entre más de dos variables\n",
    "\n",
    "![correlation](https://upload.wikimedia.org/wikipedia/en/7/78/Correlation_plots_of_double_knockout_distribution_across_subsystems_in_M.tb_and_E.coli.png)\n",
    "\n",
    "> Como vimos anteriormente, el coeficiente de correlación se calcula por pares de variables, y es bastante útil para identificar cuando dos variables están relacionadas. \n",
    "\n",
    "> Una vez identificamos la relación entre dos variables, digamos $x$ (independiente / explicativa) y $y$ (dependiente / objetivo), vimos un método para modelar esta relación, con el cual podemos predecir el valor de la variable objetivo $y$ ante un nuevo valor de la variable explicativa $x$.\n",
    "\n",
    "> Pero, ¿Qué pasa si la variable objetivo depende de más de una variable explicativa $x$?"
   ]
  },
  {
   "cell_type": "markdown",
   "metadata": {},
   "source": [
    "# 1. Visualizando la correlación entre múltiples variables\n",
    "\n",
    "Incluso con dos variables, vimos que al calcular la correlación obteníamos una matriz:"
   ]
  },
  {
   "cell_type": "code",
   "execution_count": null,
   "metadata": {},
   "outputs": [],
   "source": [
    "# Importar pandas\n"
   ]
  },
  {
   "cell_type": "code",
   "execution_count": null,
   "metadata": {},
   "outputs": [],
   "source": [
    "# Cargamos datos de las casas\n"
   ]
  },
  {
   "cell_type": "code",
   "execution_count": null,
   "metadata": {},
   "outputs": [],
   "source": []
  },
  {
   "cell_type": "code",
   "execution_count": null,
   "metadata": {},
   "outputs": [],
   "source": [
    "# Corrleación entre precio y tamaño\n"
   ]
  },
  {
   "cell_type": "markdown",
   "metadata": {},
   "source": [
    "La interpretación de esta matriz es sencilla. La entrada $i$, $j$ corresponde  la correlación de la variable $i$ con la variable $j$.\n",
    "\n",
    "En general, podemos calcular esta matriz para un número arbitrario de variables:"
   ]
  },
  {
   "cell_type": "code",
   "execution_count": null,
   "metadata": {},
   "outputs": [],
   "source": [
    "# Matriz de correlación entre las variables de número de cuartos, tamaño y precio\n"
   ]
  },
  {
   "cell_type": "markdown",
   "metadata": {},
   "source": [
    "Para este ejemplo particular, dado que tenemos pocos datos, es fácil identificar las relaciones observando directamente los números de la matriz. Sin embargo, cuando tenemos muchas variables, resulta complejo visualizar todas las correlaciones numéricas entre pares de variables.\n",
    "\n",
    "Una manera práctica de identificar la relación entre más de dos variables es por medio de una visualización por mapa de calor:"
   ]
  },
  {
   "cell_type": "code",
   "execution_count": null,
   "metadata": {},
   "outputs": [],
   "source": [
    "# Importamos seaborn\n"
   ]
  },
  {
   "cell_type": "code",
   "execution_count": null,
   "metadata": {},
   "outputs": [],
   "source": [
    "# Mapa de calor de correlaciones\n",
    "sns.heatmap(data.corr())"
   ]
  },
  {
   "cell_type": "markdown",
   "metadata": {},
   "source": [
    "Veamos un ejemplo con más variables [Boston house prices dataset](https://scikit-learn.org/stable/datasets/toy_dataset.html):"
   ]
  },
  {
   "cell_type": "code",
   "execution_count": null,
   "metadata": {},
   "outputs": [],
   "source": [
    "# Dataset de precios de casas en Boston\n"
   ]
  },
  {
   "cell_type": "code",
   "execution_count": null,
   "metadata": {},
   "outputs": [],
   "source": [
    "# Encapsulamos en un data frame\n"
   ]
  },
  {
   "cell_type": "code",
   "execution_count": null,
   "metadata": {},
   "outputs": [],
   "source": []
  },
  {
   "cell_type": "code",
   "execution_count": null,
   "metadata": {},
   "outputs": [],
   "source": []
  },
  {
   "cell_type": "code",
   "execution_count": null,
   "metadata": {},
   "outputs": [],
   "source": []
  },
  {
   "cell_type": "code",
   "execution_count": null,
   "metadata": {},
   "outputs": [],
   "source": [
    "# Mapa de calor de correlaciones\n"
   ]
  },
  {
   "cell_type": "markdown",
   "metadata": {},
   "source": [
    "# 2. Regresión lineal con múltiples variables\n",
    "\n",
    "El modelo de regresión lineal que vimos con una variable es fácilmente generalizable para considerar múltiples variables.\n",
    "\n",
    "En el caso de dos variables, el objetivo de la regresión lineal es encontrar un modelo de un plano:\n",
    "\n",
    "$$\n",
    "y = \\alpha_0 + \\alpha_1 x^1 + \\alpha_2 x^2\n",
    "$$\n",
    "\n",
    "que **\"mejor\" (en el sentido de mínimos cuadrados) se ajuste a los puntos**."
   ]
  },
  {
   "cell_type": "markdown",
   "metadata": {},
   "source": [
    "Matemáticamente, si los puntos son\n",
    "\n",
    "$$\n",
    "\\{(x^1_1, x^2_1, y_1), (x^1_2, x^2_2, y_2), \\dots, (x^1_n, x^2_n, y_n)\\},\n",
    "$$\n",
    "\n",
    "lo que queremos es estimar los valores de los parámetros $m$ y $b$ que minimizan la siguiente función:\n",
    "\n",
    "$$\n",
    "J(m, b) = \\sum_{i=1}^{n}(y_i - \\alpha_0 - \\alpha_1 x^1_i - \\alpha_2 x^2_i)^2\n",
    "$$"
   ]
  },
  {
   "cell_type": "markdown",
   "metadata": {},
   "source": [
    "La buena noticia es que el código no se modifica en lo absoluto:"
   ]
  },
  {
   "cell_type": "code",
   "execution_count": null,
   "metadata": {},
   "outputs": [],
   "source": [
    "# Importar sklearn.linear_model.LinearRegression\n"
   ]
  },
  {
   "cell_type": "code",
   "execution_count": null,
   "metadata": {},
   "outputs": [],
   "source": [
    "# Ajustar el mejor plano a los datos de precios vs. tamaños, número de recámaras\n"
   ]
  },
  {
   "cell_type": "code",
   "execution_count": null,
   "metadata": {},
   "outputs": [],
   "source": [
    "# Obtener parámetros ajustados\n"
   ]
  },
  {
   "cell_type": "markdown",
   "metadata": {},
   "source": [
    "Podemos comparar los scores ($R^2$: % de variación que explica el modelo) de ambos modelos:"
   ]
  },
  {
   "cell_type": "code",
   "execution_count": null,
   "metadata": {},
   "outputs": [],
   "source": [
    "# Coeficiente de determinación de modelo con una variable\n"
   ]
  },
  {
   "cell_type": "code",
   "execution_count": null,
   "metadata": {},
   "outputs": [],
   "source": [
    "# Coeficiente de determinación de modelo con dos variables\n"
   ]
  },
  {
   "cell_type": "markdown",
   "metadata": {},
   "source": [
    "### ¡De esta manera, podemos incluir en nuestro sistema de avalúos automáticos, la variable de número de cuartos!"
   ]
  }
 ],
 "metadata": {
  "kernelspec": {
   "display_name": "Python 3",
   "language": "python",
   "name": "python3"
  },
  "language_info": {
   "codemirror_mode": {
    "name": "ipython",
    "version": 3
   },
   "file_extension": ".py",
   "mimetype": "text/x-python",
   "name": "python",
   "nbconvert_exporter": "python",
   "pygments_lexer": "ipython3",
   "version": "3.8.5"
  }
 },
 "nbformat": 4,
 "nbformat_minor": 4
}
